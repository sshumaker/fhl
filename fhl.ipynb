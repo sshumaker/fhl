{
 "cells": [
  {
   "attachments": {},
   "cell_type": "markdown",
   "id": "134a0785",
   "metadata": {},
   "source": [
    "# FHL demo"
   ]
  },
  {
   "cell_type": "code",
   "execution_count": null,
   "id": "70c4e529",
   "metadata": {},
   "outputs": [],
   "source": [
    "from langchain.embeddings.openai import OpenAIEmbeddings\n",
    "from chroma2 import Chroma2\n",
    "from langchain.vectorstores import Chroma\n",
    "from langchain.text_splitter import CharacterTextSplitter\n",
    "from langchain.text_splitter import TokenTextSplitter\n",
    "from langchain.text_splitter import SpacyTextSplitter\n",
    "from langchain.llms import OpenAI\n",
    "from langchain.chains import ChatVectorDBChain\n",
    "from langchain.callbacks import get_openai_callback\n",
    "from langchain.embeddings import OpenAIEmbeddings\n",
    "from pathlib import Path\n",
    "from typing import List\n",
    "from langchain.document_loaders import TextLoader\n"
   ]
  },
  {
   "cell_type": "code",
   "execution_count": null,
   "id": "433363a5",
   "metadata": {},
   "outputs": [],
   "source": [
    "def load_dir(path, glob):\n",
    "    \"\"\"Load documents.\"\"\"\n",
    "    p = Path(path)\n",
    "    docs = []\n",
    "    for i in p.glob(glob):\n",
    "        if i.is_file():\n",
    "            sub_docs = TextLoader(str(i)).load()\n",
    "            docs.extend(sub_docs)\n",
    "    return docs\n",
    "\n",
    "def chunks(xs, n):\n",
    "    n = max(1, n)\n",
    "    return (xs[i:i+n] for i in range(0, len(xs), n))"
   ]
  },
  {
   "cell_type": "code",
   "execution_count": null,
   "id": "c598784e",
   "metadata": {},
   "outputs": [],
   "source": [
    "def load_handbook_all():\n",
    "    return load_dir(\"data/handbook/\", glob=\"**/*.md\")\n",
    "\n",
    "def load_handbook():\n",
    "    directories=[\"travel\",\"paid-time-off\",\"people-policies\", \"hiring\", \"incentives\", \"legal\"]\n",
    "    documents = []\n",
    "    for dir in directories:\n",
    "        documents += load_dir(f'data/handbook/{dir}/', glob=\"**/*.md\")\n",
    "    return documents\n",
    "def split_documents(documents):\n",
    "    #text_splitter = TokenTextSplitter(chunk_size=800, chunk_overlap=0)\n",
    "    text_splitter = SpacyTextSplitter.from_tiktoken_encoder(chunk_size=800, chunk_overlap=0)\n",
    "    return text_splitter.split_documents(documents)\n",
    "\n",
    "    "
   ]
  },
  {
   "attachments": {},
   "cell_type": "markdown",
   "id": "239475d2",
   "metadata": {},
   "source": [
    "### Initiatilize the vector store, also loading anything previous persisted under the \"collection_name\""
   ]
  },
  {
   "cell_type": "code",
   "execution_count": null,
   "id": "a8930cf7",
   "metadata": {},
   "outputs": [],
   "source": [
    "embeddings = OpenAIEmbeddings()\n",
    "vectorstore = Chroma2(collection_name=\"handbook\",embedding_function=embeddings)"
   ]
  },
  {
   "attachments": {},
   "cell_type": "markdown",
   "id": "4d53d640",
   "metadata": {},
   "source": [
    "## Load and process the employee handbook corpus"
   ]
  },
  {
   "cell_type": "code",
   "execution_count": null,
   "id": "29d37b6e",
   "metadata": {},
   "outputs": [],
   "source": [
    "handbook_docs = load_handbook_all()\n",
    "splitted = split_documents(handbook_docs)\n",
    "splitted = [doc for doc in splitted if len(doc.page_content) < 8192]"
   ]
  },
  {
   "cell_type": "code",
   "execution_count": null,
   "id": "3cf190ec",
   "metadata": {},
   "outputs": [],
   "source": [
    "total = len(splitted)\n",
    "\n",
    "if total < 1000:\n",
    "    vectorstore.add_documents(splitted)\n",
    "else: \n",
    "    import time\n",
    "    MAX_PER_MIN = 1500\n",
    "    BATCH_PER_MIN = 3\n",
    "    SPLIT_COUNT = MAX_PER_MIN / BATCH_PER_MIN\n",
    "    MIN_TIME_PER_BATCH = 60 / BATCH_PER_MIN\n",
    "\n",
    "    doc_chunks = chunks(splitted, int(SPLIT_COUNT))\n",
    "    count = 0\n",
    "    for docs in doc_chunks:\n",
    "        print(\"chunk\", len(docs))\n",
    "        start = time.perf_counter()\n",
    "        vectorstore.add_documents(documents=docs)\n",
    "        elapsed = time.perf_counter() - start\n",
    "        count += len(docs)\n",
    "        if (count < total) and (elapsed < MIN_TIME_PER_BATCH):\n",
    "            print(\"sleeping for\", MIN_TIME_PER_BATCH - elapsed)\n",
    "            time.sleep(MIN_TIME_PER_BATCH - elapsed)"
   ]
  },
  {
   "cell_type": "code",
   "execution_count": null,
   "id": "6f4fc8a1",
   "metadata": {},
   "outputs": [],
   "source": [
    "# requires patching duckdb as there's a parser error\n",
    "vectorstore._client._db.persist()\n",
    "#vectorstore._client._db.get_save_folder()"
   ]
  },
  {
   "attachments": {},
   "cell_type": "markdown",
   "id": "f86a8d75",
   "metadata": {},
   "source": [
    "## Retrieval"
   ]
  },
  {
   "cell_type": "code",
   "execution_count": 7,
   "id": "44c28cd9",
   "metadata": {},
   "outputs": [],
   "source": [
    "\n",
    "ai = OpenAI(temperature=0,verbose=True)"
   ]
  },
  {
   "cell_type": "code",
   "execution_count": 8,
   "id": "2540e566",
   "metadata": {},
   "outputs": [],
   "source": [
    "import re\n",
    "import markdown\n",
    "from IPython.display import display, HTML\n",
    "\n",
    "template_hdr = \"\"\"Given a question and the following contexts (labeled as #0, #1, and #2), follow these instructions.\n",
    "First, see if the question can be answered solely by the information provided in the contexts. If it cannot, return this output:\n",
    "Answer: Not found\n",
    "\n",
    "Otherwise, Provide a verbose, comprehensive answer based solely on the information found in the provided contexts. Your output should of the form:\n",
    "    Context: <comma separated array containing names of all contexts referenced in the answer>\n",
    "    Answer: <answer to the question>\n",
    "\"\"\"\n",
    "\n",
    "def construct_prompt(query):\n",
    "  output = template_hdr\n",
    "  results = vectorstore.similarity_search(query,k=3)\n",
    "\n",
    "  for i in range(len(results)):\n",
    "    doc = results[i]\n",
    "    output += f\"\"\"=== CONTEXT #{i} ===\n",
    "    {doc.page_content}\n",
    "    ===\n",
    "    \"\"\"\n",
    "  output += f\"\"\"Question: {query}\"\"\"\n",
    "  return output, results\n",
    "\n",
    "def question(q):\n",
    "  prompt, source_results = construct_prompt(q)\n",
    "  response = ai(prompt)\n",
    "\n",
    "  # parse the response\n",
    "  context = \"\"\n",
    "  answer = \"\"\n",
    "  try:\n",
    "    results = re.search(r'CONTEXT:\\s*(.*?)\\s*ANSWER:\\s*(.*?)$', response, re.DOTALL|re.IGNORECASE)\n",
    "    context = results.group(1)\n",
    "    answer = results.group(2)\n",
    "\n",
    "    found_answer = answer.lower().strip != \"not found.\"\n",
    "\n",
    "    # parse the context\n",
    "    if found_answer:\n",
    "      sources = context.split(\",\")\n",
    "      sources = [element for element in sources if (not element.isspace() and element)]\n",
    "      sources = [re.search(r'([0-9])', src).group(1) for src in sources]\n",
    "      sources = [int(s) for s in sources]\n",
    "      sources = [source_results[i] for i in sources]\n",
    "    else:\n",
    "      sources = source_results   \n",
    "\n",
    "    output = f\"\"\"\n",
    "    <h2><div style=\"width:800px\">{answer}</div></h3><br>\n",
    "    <h4>\n",
    "    Sources:\n",
    "    \"\"\"\n",
    "\n",
    "    for source in sources:\n",
    "      output += f\"\"\"<div><h3><b>{source.metadata['source']}</b></h3></div>\n",
    "      <i><div style=\"background-color:#333;margin-bottom:32px\">...{markdown.markdown(source.page_content)}...</div></i>\n",
    "      \"\"\"\n",
    "    \n",
    "    display(HTML(output))\n",
    "  except Exception as e:\n",
    "    if (re.search(\"not found\", response, re.IGNORECASE)):\n",
    "      display(HTML(f\"\"\"<h2>No answer found</h2>\"\"\"))\n",
    "    else:\n",
    "      print(\"EXCEPTION!\", e)\n",
    "      print(prompt)\n",
    "      print(response)\n",
    "      print(context)\n",
    "      print(\"\\n\\n\\n\", response)"
   ]
  },
  {
   "cell_type": "code",
   "execution_count": 10,
   "id": "ae38bf5f",
   "metadata": {},
   "outputs": [
    {
     "data": {
      "text/html": [
       "\n",
       "    <h2><div style=\"width:800px\">If the NDA is rejected, the session will need to be rescheduled. Additionally, if the request is tied to the procurement (or potential procurement) of goods or services, the directions provided by the Procurement Team should be followed, where GitLab Legal will be engaged accordingly. If the request is not applicable for either of the above, a Legal Issue should be created and tagged with “NDA Request”.</div></h3><br>\n",
       "    <h4>\n",
       "    Sources:\n",
       "    <div><h3><b>data/handbook/legal/NDA/index.html.md</b></h3></div>\n",
       "      <i><div style=\"background-color:#333;margin-bottom:32px\">...<p>In the event a non-standard NDA is requested, please follow the applicable steps below:</p>\n",
       "<ul>\n",
       "<li>NDAs regarding Customers and/or Partners require a <a href=\"https://about.gitlab.com/handbook/legal/customer-negotiations/#how-to-reach-legal\">Legal Request</a> to be opened;</li>\n",
       "</ul>\n",
       "<p>-</p>\n",
       "<p>If this request is tied to the procurement (or potential procurement) of goods or services, follow the directions provided by the <a href=\"https://about.gitlab.com/handbook/finance/procurement/\">Procurement Team</a>, where GitLab Legal will be engaged accordingly; or</p>\n",
       "<ul>\n",
       "<li>If the request is not applicable for either of the above, create a <a href=\"https://gitlab.com/gitlab-com/legal-and-compliance\">Legal Issue</a> and tag the Issue with “NDA Request”.</li>\n",
       "</ul>...</div></i>\n",
       "      <div><h3><b>data/handbook/sales/sales-operating-procedures/deal-closure/index.html.md</b></h3></div>\n",
       "      <i><div style=\"background-color:#333;margin-bottom:32px\">...<p>How fast do they need to move on this project?</p>\n",
       "<h2>2.</h2>\n",
       "<p>Create a Deal Package</p>\n",
       "<p>A deal package is an additional component of the customer deck you used earlier.</p>\n",
       "<p>The deal package must include everything the customer needs for a complete solution for long term use while also taking into account budget information you captured earlier.</p>\n",
       "<p>The deal package within the customer deck should include the following components:</p>\n",
       "<ul>\n",
       "<li>Business Case Proposal</li>\n",
       "<li>Mutual Close Plan</li>\n",
       "<li>Master Software Agreement</li>\n",
       "<li>Preliminary Pricing Proposal by tier based on the POV developed by the SA</li>\n",
       "<li>Execution and Tracking of Mutual Close Plan</li>\n",
       "</ul>\n",
       "<h2>3.</h2>\n",
       "<p>Negotiations</p>\n",
       "<p>**Rule to Remember: _</p>\n",
       "<p>You should only discount when real budget constraints are the hold up to the purchase.</p>\n",
       "<p>_**</p>\n",
       "<p>**Negotiations are defined as a discussion aimed at reaching a mutually beneficial agreement.</p>\n",
       "<p>*</p>\n",
       "<ul>\n",
       "<li>At this point in deal closure, the economic buyer has received the deal package.</li>\n",
       "</ul>\n",
       "<p>You have conducted a number of engagements with the economic buyer, the technical champion, and advocates to create a package that provides a definitive solution to their business problems while also being priced in the appropriate product tier necessary for the customer to be successful.</p>\n",
       "<p>Yet, they want a discount.</p>\n",
       "<p>**Rule to Remember: _</p>\n",
       "<p>If they push back, you probably missed something during your discovery process.</p>\n",
       "<p>_*</p>\n",
       "<p>*</p>\n",
       "<p>When this happens..you need to conduct additional discovery to work around the customer push back.</p>\n",
       "<h3>3.1 Ask Why?</h3>\n",
       "<p>1.</p>\n",
       "<p>Find out why they suddenly want to negotiate even though they were included in the deal proposal at all phases.</p>\n",
       "<p>**Ask why?</p>\n",
       "<p>** - Understand why they are asking for something.</p>\n",
       "<p>Confirm in the customer's words that they see the value of GitLab.</p>\n",
       "<p>Determine what has changed and why the business goal you solved for may no longer be their priority.</p>\n",
       "<p>Remind them of why they are here.</p>\n",
       "<p>1.</p>\n",
       "<p>Determine if they are asking because they are trained to ask for concessions or if it truly is a money issue.</p>\n",
       "<p>1.</p>\n",
       "<p>Understand who you’re negotiating with because if it’s a Procurement or Purchasing department instead of the economic buyer, remember that 70% of the time Procurement always asks for discounts with no understanding of the solution.</p>\n",
       "<p>Procurement’s job is to get as low a price as possible.</p>\n",
       "<p>In these instances, work with your champion to get a feel for the pricing based on justification and ROI.</p>\n",
       "<p>Also, test your champion again on the decision/paper process to get through the hurdles of pricing.</p>\n",
       "<p>Engage with Champion and Vendor Management POCs..who can cut business up..</p>\n",
       "<p>Need champions to help remove business level barriers.. Finding money, vendor barriers.</p>\n",
       "<p>1.</p>\n",
       "<p>Barter..</p>\n",
       "<p>What are we getting in return?</p>\n",
       "<p>If GitLab doesn’t approve a discount, what will happen?</p>\n",
       "<p>Ask the customer what the risk is of not doing this?</p>\n",
       "<p>The client has to make judgment on the risk.</p>\n",
       "<p>Negotiations should rarely go beyond the discount matrix because of the work done to align the business requirements with GitLab capabilities and service tiers.</p>\n",
       "<p>You can guide the customer to start smaller on a lower tier and/or with fewer users and expand usage over a longer period of time (generally 3 years plus).</p>\n",
       "<p>Utilize the following <a href=\"https://docs.google.com/document/d/1-CH-uH_zr0qaVaV1QbmVZ1rF669DsaUeq9w-q1QiKPE/edit?ts=5d6ea430#heading=h.ag75fqu12pf0\"><strong>Deal Approval Matrix</strong></a> to understand your flexibility when negotiating.</p>\n",
       "<p>Additionally, during the negotiation phase you should also be working with the Customer Success Team to plan a smooth transition for the customer.</p>...</div></i>\n",
       "      "
      ],
      "text/plain": [
       "<IPython.core.display.HTML object>"
      ]
     },
     "metadata": {},
     "output_type": "display_data"
    }
   ],
   "source": [
    "\n",
    "# Leave policy\n",
    "#question(\"How much PTO do I get?\")\n",
    "#question(\"How do I file time off?\")\n",
    "\n",
    "# Travel policy\n",
    "#question(\"I'm very tall. What are my options for flights?\")\n",
    "#question(\"What's our policy re: Covid-19?\")\n",
    "\n",
    "# Unknown (not answered in DB)\n",
    "#question(\"Are chainsaws ok?\")\n",
    "#question(\"When do paychecks arrive?\")\n",
    "\n",
    "# Hiring\n",
    "#question(\"How do I submit someone for a referral?\")\n",
    "#question(\"Is there a referral bonus?\")\n",
    "\n",
    "# Legal\n",
    "#question(\"How do I create a NDA?\")\n",
    "#question(\"Is there an bonus awarded for getting a patent?\")\n",
    "\n",
    "# Promo\n",
    "# question(\"What dates are promotions finalized?\")\n",
    "# question(\"What are the levels in the career ladder?\")\n",
    "\n",
    "# Culture\n",
    "# question(\"What are the cultural values at Gitlab?\")\n",
    "\n",
    "# Problematic questions\n",
    "# question(\"Where should decisions made in a meeting be captured?\") # includes extraneous information board meetings.\n",
    "# question(\"What happens when the NDA is rejected?\") # Nonsense answer.\n"
   ]
  },
  {
   "cell_type": "code",
   "execution_count": null,
   "id": "d4c865e0",
   "metadata": {},
   "outputs": [],
   "source": []
  }
 ],
 "metadata": {
  "kernelspec": {
   "display_name": "mlenv",
   "language": "python",
   "name": "python3"
  },
  "language_info": {
   "codemirror_mode": {
    "name": "ipython",
    "version": 3
   },
   "file_extension": ".py",
   "mimetype": "text/x-python",
   "name": "python",
   "nbconvert_exporter": "python",
   "pygments_lexer": "ipython3",
   "version": "3.10.9"
  },
  "vscode": {
   "interpreter": {
    "hash": "d4cb34ac04d2f63e8dd7a2b828fd0a9d1c30833be22708a543587de3f7cfd78e"
   }
  }
 },
 "nbformat": 4,
 "nbformat_minor": 5
}
